{
 "cells": [
  {
   "cell_type": "code",
   "execution_count": 1,
   "id": "b2018c74-9ee6-4be3-9ec7-0f7472e2c73d",
   "metadata": {},
   "outputs": [],
   "source": [
    "import numpy as npy\n",
    "import EMfields as em\n",
    "import RefractiveIndex as ri\n",
    "import matplotlib.pyplot as plt\n",
    "import opticalCrossSection as ocs\n",
    "from scipy.optimize import curve_fit"
   ]
  },
  {
   "cell_type": "code",
   "execution_count": 2,
   "id": "349e1a4e-90ea-43fe-b430-e35ac58feb2d",
   "metadata": {},
   "outputs": [],
   "source": [
    "# Definição dos parâmetros de análise e importação dos parâmetros materiais\n",
    "\n",
    "## Se a NP for uma nanoesfera, shell_material equivale ao material da esfera\n",
    "shell_material = 'Au'                                    \n",
    "core_material = 'Water'\n",
    "medium_material = 'Water'\n",
    "\n",
    "## Se True, é nanocasca. Se False, é nanoesfera\n",
    "isShell = False\n",
    "\n",
    "## Raio da da nanoesfera ou núcleo (nm)\n",
    "a = 30\n",
    "\n",
    "## Espessura da casca (nm)\n",
    "t = 7\n",
    "\n",
    "## Raio da nanocasca (nm)\n",
    "if isShell:\n",
    "    b = a + t\n",
    "else:\n",
    "    b = a\n",
    "\n",
    "## Início da região de exibição no plot\n",
    "lambda_min = 300                                         \n",
    "\n",
    "## Fim da região de exibição no plot\n",
    "lambda_max = 950\n",
    "\n",
    "## Incluir correção de drude?\n",
    "drude = False"
   ]
  },
  {
   "cell_type": "code",
   "execution_count": 3,
   "id": "299dc255-aee1-4ecf-9896-74e2fabba63a",
   "metadata": {},
   "outputs": [],
   "source": [
    "a_min = 2.5\n",
    "#a_max = 102.5\n",
    "a_max = 52.5\n",
    "a_res = 2.5\n",
    "\n",
    "pos_532 = 118              # Array position equivalent to 532nm\n",
    "Cm = 17.4e-3               # Gold mass concentration (kg/m^3)\n",
    "rho_Au = 19300             # Gold density (kg/m^3)\n",
    "wl_ref = 1240e-9           # Reference wavelength (1 eV)\n",
    "const = wl_ref/(2*npy.pi)  # Supporting constant for Jo\n",
    "\n",
    "r = npy.linspace(a_min,a_max,int((a_max-a_min)/a_res+1))\n",
    "Jo = npy.empty(len(r))\n",
    "S2F = npy.empty(len(r))\n",
    "alpha = npy.empty(len(r))"
   ]
  },
  {
   "cell_type": "code",
   "execution_count": 4,
   "id": "e3391a1c-5f1b-4d8f-b110-1ccf6d6e77ba",
   "metadata": {},
   "outputs": [],
   "source": [
    "for xx in range(0,len(r)-1,1):\n",
    "    a = r[xx]\n",
    "    if isShell:\n",
    "        b = a + t\n",
    "    else:\n",
    "        b = a\n",
    "    wl, N, N1, N2, mu1, mu2 = ri.setupRI(shell_material,core_material,medium_material,\n",
    "                                                a,b,lambda_min,lambda_max,isShell,drude,0)\n",
    "    \n",
    "    if isShell:\n",
    "        Csca, Cext, Cabs, Cbck = ocs.shellCS(wl*(1e9),N1,N2,N,mu1,mu2,a,b)\n",
    "    else:\n",
    "        Csca, Cext, Cabs, Cbck = ocs.sphereCS(wl*(1e9),N2,N,mu2,a)\n",
    "    \n",
    "    wl = npy.delete(wl,len(wl)-1)\n",
    "    Cabs = npy.delete(Cabs,len(Cabs)-1)\n",
    "    #Csca = npy.delete(Csca,len(Csca)-1)\n",
    "    #Cext = npy.delete(Cext,len(Cext)-1)\n",
    "    Vnp = 4*npy.pi*((a*(1e-9))**3)/3\n",
    "    Jo[xx] = const*(Cabs[pos_532]*(1e-18)/Vnp)\n",
    "    S2F[xx] = Cabs[pos_532]*(1e-18)/(a*(1e-9))\n",
    "    alpha[xx] = Cm*Cabs[pos_532]*(1e-18)/(rho_Au*Vnp)\n",
    "    #plt.plot(wl*(1e9),Cabs)\n",
    "    \n",
    "#plt.ylabel('Absorption cross-section (nm$^2$)')\n",
    "#plt.xlabel('Wavelength (nm)')\n",
    "#plt.xlim([lambda_min,lambda_max])\n",
    "#plt.axvline(x = 532, color = 'b', label = 'axvline - full height')\n",
    "#plt.savefig('NormExtCS.png',dpi=300,format='png')"
   ]
  },
  {
   "cell_type": "code",
   "execution_count": 5,
   "id": "5625547c-b134-42f8-bbd4-58d6283d5631",
   "metadata": {},
   "outputs": [],
   "source": [
    "r = npy.delete(r,len(r)-1)\n",
    "Jo = npy.delete(Jo,len(Jo)-1)\n",
    "S2F = npy.delete(S2F,len(S2F)-1)\n",
    "alpha = npy.delete(alpha,len(alpha)-1)"
   ]
  },
  {
   "cell_type": "markdown",
   "id": "5992900a-3b31-44fe-866a-850e9b5b97c7",
   "metadata": {},
   "source": [
    "fig1 = plt.figure(1)\n",
    "ax1 = plt.gca()\n",
    "plt.xticks(fontsize=12)\n",
    "plt.yticks(fontsize=12)\n",
    "plt.ylabel('Joule number', fontsize=12)\n",
    "plt.xlabel('Diameter (nm)', fontsize=12)\n",
    "#plt.rcParams['figure.figsize'] = (10, 5)\n",
    "plt.plot(2*r, Jo, 'bo-')\n",
    "plt.xlim([0, 105])\n",
    "#plt.ylim([0, 22.5])\n",
    "#plt.grid(alpha=0.5)\n",
    "#plt.savefig('Georges//Figure_2(a).pdf',dpi=300,format='pdf')\n",
    "plt.show()"
   ]
  },
  {
   "cell_type": "markdown",
   "id": "6557588e-9d4b-454f-bfa1-13cfc3faf316",
   "metadata": {},
   "source": [
    "fig2 = plt.figure(2)\n",
    "ax2 = plt.gca()\n",
    "plt.xticks(fontsize=12)\n",
    "plt.yticks(fontsize=12)\n",
    "plt.ylabel('Steady-state factor $\\\\times 10^{-7}$ (m)', fontsize=12)\n",
    "plt.xlabel('Diameter (nm)', fontsize=12)\n",
    "#plt.rcParams['figure.figsize'] = (10, 5)\n",
    "plt.plot(2*r, S2F/(1e-7), 'ro-')\n",
    "plt.xlim([0, 105])\n",
    "#plt.ylim([0, 22.5])\n",
    "#plt.grid(alpha=0.5)\n",
    "#plt.savefig('Georges//Figure_2(b).pdf',dpi=300,format='pdf')\n",
    "plt.show()"
   ]
  },
  {
   "cell_type": "code",
   "execution_count": 6,
   "id": "2cef3f43-c918-4003-9b30-394ee9b53d2b",
   "metadata": {},
   "outputs": [
    {
     "data": {
      "image/png": "[encoded data removed]",
      "text/plain": [
       "<Figure size 432x288 with 1 Axes>"
      ]
     },
     "metadata": {
      "needs_background": "light"
     },
     "output_type": "display_data"
    }
   ],
   "source": [
    "fig3 = plt.figure(3)\n",
    "ax3 = plt.gca()\n",
    "ax3.tick_params(axis='both', direction=\"in\", which='major', labelsize=14)\n",
    "plt.xticks(fontsize=14)\n",
    "plt.yticks(fontsize=14)\n",
    "plt.ylabel('$\\\\alpha_{abs}$ (m$^{-1}$)', fontsize=16)\n",
    "plt.xlabel('Diameter (nm)', fontsize=16)\n",
    "#plt.rcParams['figure.figsize'] = (10, 5)\n",
    "plt.plot(2*r, alpha, 'ko-')\n",
    "plt.xlim([0, 105])\n",
    "#plt.ylim([0, 22.5])\n",
    "#plt.grid(alpha=0.5)\n",
    "#plt.legend(['C$_m$ = 17.4 mg/L'], fontsize=12)\n",
    "#plt.text(70,90,'C$_m$ = 17.4 mg/L', fontsize=12)\n",
    "#plt.savefig('Georges//Figure_3.pdf',dpi=300,format='pdf')\n",
    "plt.savefig('Georges//Final//Figure_2.pdf',dpi=300,format='pdf')\n",
    "plt.show()"
   ]
  },
  {
   "cell_type": "code",
   "execution_count": 7,
   "id": "ffd5b9ad-1294-4cf0-af21-a35ce897f434",
   "metadata": {},
   "outputs": [],
   "source": [
    "diam = npy.array([5,50,100])\n",
    "\n",
    "meas1_P = npy.array([1.33,1.33,1.33])\n",
    "meas1_Tav = npy.array([13.4,13.6,6.6])\n",
    "meas1_Tnp = npy.array([0.011,1.1,2.4])\n",
    "\n",
    "meas2_P = npy.array([1.06,1.06,1.06])\n",
    "meas2_Tav = npy.array([11,10.8,5.4])\n",
    "meas2_Tnp = npy.array([0.009,0.9,1.9])\n",
    "\n",
    "meas3_P = npy.array([0.97,0.89,0.89])\n",
    "meas3_Tav = npy.array([8.9,8.8,4.7])\n",
    "meas3_Tnp = npy.array([0.007,0.7,1.7])"
   ]
  },
  {
   "cell_type": "markdown",
   "id": "925c9473-70dd-457b-a4d5-cb5ce107cefa",
   "metadata": {},
   "source": [
    "fig4 = plt.figure(4)\n",
    "ax4 = plt.gca()\n",
    "plt.xticks(fontsize=12)\n",
    "plt.yticks(fontsize=12)\n",
    "plt.ylabel('$\\\\Delta T_{np}$ (m $^{o}$C)', fontsize=12)\n",
    "plt.xlabel('Diameter (nm)', fontsize=12)\n",
    "#plt.rcParams['figure.figsize'] = (10, 5)\n",
    "plt.errorbar(diam, meas2_Tnp, yerr = 0.1*meas2_Tnp, fmt ='o', color = \"black\")\n",
    "#plt.plot(diam, meas2_Tnp, 'ko')\n",
    "plt.xlim([-5, 105])\n",
    "#plt.ylim([-0, 2])\n",
    "#plt.grid(alpha=0.5)\n",
    "plt.legend(['P$_{e}$ = 1.06 mW'], fontsize=12)\n",
    "ax41 = ax4.twinx()\n",
    "ax41.plot(2*r,S2F/(1e-7),'x--',color='r')\n",
    "ax41.yaxis.set_tick_params(which='major', direction='in', top='on', labelcolor = 'r')\n",
    "ax41.set_ylabel('Steady-state factor $\\\\times$ 10$^{-7}$ (m)',color=\"r\", fontsize=12)\n",
    "ax41.tick_params(axis='y', labelsize=12)\n",
    "#ax41.set_ylim([0,4])\n",
    "#plt.savefig('Georges//NP_temperature_increase_x_D.png',dpi=300,format='png')\n",
    "plt.show()"
   ]
  },
  {
   "cell_type": "code",
   "execution_count": 8,
   "id": "03030904-38e5-448a-985f-18c95e6fe71e",
   "metadata": {},
   "outputs": [],
   "source": [
    "P_5 = npy.array([0.97,1.06,1.33])\n",
    "Tnp_5 = npy.array([0.007,0.009,0.011])\n",
    "Tav_5 = npy.array([8.9,11,13.4])\n",
    "\n",
    "P_50 = npy.array([0.89,1.06,1.33])\n",
    "Tnp_50 = npy.array([0.7,0.9,1.1])\n",
    "Tav_50 = npy.array([8.8,10.8,13.6])\n",
    "\n",
    "P_100 = npy.array([0.89,1.06,1.33])\n",
    "Tnp_100 = npy.array([1.7,1.9,2.4])\n",
    "Tav_100 = npy.array([4.7,5.4,6.6])"
   ]
  },
  {
   "cell_type": "code",
   "execution_count": 9,
   "id": "9d48c965-59e0-4f7c-9fd7-9876f199ebc6",
   "metadata": {},
   "outputs": [],
   "source": [
    "w0 = 42e-6\n",
    "Pex = npy.linspace(0,2)\n",
    "np_theory_5 = Pex*(1e-3)*(5.63e-18)/(2*((npy.pi*w0)**2)*0.6*(2.5e-9))\n",
    "np_theory_50 = Pex*(1e-3)*(6.88e-15)/(2*((npy.pi*w0)**2)*0.6*(25e-9))\n",
    "np_theory_100 = Pex*(1e-3)*(2.08e-14)/(2*((npy.pi*w0)**2)*0.6*(50e-9))\n",
    "#np_theory_5 = (2*Pex/(npy.pi*(w0**2)))*(1e-3)*(5.63e-18)/(4*npy.pi*0.6*(2.5e-9))\n",
    "#np_theory_50 = (2*Pex/(npy.pi*(w0**2)))*(1e-3)*(6.88e-15)/(4*npy.pi*0.6*(25e-9))\n",
    "#np_theory_100 = (2*Pex/(npy.pi*(w0**2)))*(1e-3)*(2.08e-14)/(4*npy.pi*0.6*(50e-9))"
   ]
  },
  {
   "cell_type": "markdown",
   "id": "c6e764e4-0d7a-4566-a666-e8d246c2c074",
   "metadata": {},
   "source": [
    "fig5 = plt.figure(5)\n",
    "ax5 = plt.gca()\n",
    "plt.xticks(fontsize=12)\n",
    "plt.yticks(fontsize=12)\n",
    "plt.ylabel('$\\\\Delta T_{np}$ (m $^{o}$C)', fontsize=12)\n",
    "plt.xlabel('Excitation power (mW)', fontsize=12)\n",
    "#plt.plot(Pex, np_theory_5/(1e-3), 'r--')\n",
    "plt.errorbar(P_5, Tnp_5, yerr = 0.1*Tnp_5, fmt ='s', color = \"red\")\n",
    "ax5.text(1.4, 0, '5 nm', color='red', fontsize=12)\n",
    "#plt.plot(Pex, np_theory_50/(1e-3), 'k--')\n",
    "plt.errorbar(P_50, Tnp_50, yerr = 0.1*Tnp_50, fmt ='^', color = \"black\")\n",
    "ax5.text(1.4, 1, '50 nm', color='black', fontsize=12)\n",
    "#plt.plot(Pex, np_theory_100/(1e-3), 'b--')\n",
    "plt.errorbar(P_100, Tnp_100, yerr = 0.1*Tnp_100, fmt ='o', color = \"blue\")\n",
    "ax5.text(1.4, 2.3, '100 nm', color='blue', fontsize=12)\n",
    "plt.xlim([0.8, 1.5])\n",
    "#plt.ylim([-0, 2])\n",
    "#plt.grid(alpha=0.5)\n",
    "#plt.savefig('Georges//Figure_5(b).pdf',dpi=300,format='pdf')\n",
    "plt.show()"
   ]
  },
  {
   "cell_type": "markdown",
   "id": "1d0f4d67-8973-417a-b80c-6bf82eb6a6b8",
   "metadata": {},
   "source": [
    "fig6 = plt.figure(6)\n",
    "ax6 = plt.gca()\n",
    "plt.xticks(fontsize=12)\n",
    "plt.yticks(fontsize=12)\n",
    "#plt.ylabel('$< \\\\Delta T >$ (m $^{o}$C)', fontsize=12)\n",
    "plt.xlabel('Excitation power (mW)', fontsize=12)\n",
    "ax6.set_ylabel(r'$\\langle \\Delta T \\rangle$ (m $^{o}$C)', fontsize=12)\n",
    "#plt.plot(Pex, np_theory_5/(1e-3), 'r--')\n",
    "plt.errorbar(P_5, Tav_5, yerr = 0.1*Tav_5, fmt ='s', color = \"red\")\n",
    "ax6.text(1.4, 13.0, '5 nm', color='red', fontsize=12)\n",
    "#plt.plot(Pex, np_theory_50/(1e-3), 'k--')\n",
    "plt.errorbar(P_50, Tav_50, yerr = 0.1*Tav_50, fmt ='^', color = \"black\")\n",
    "ax6.text(1.4, 13.7, '50 nm', color='black', fontsize=12)\n",
    "#plt.plot(Pex, np_theory_100/(1e-3), 'b--')\n",
    "plt.errorbar(P_100, Tav_100, yerr = 0.1*Tav_100, fmt ='o', color = \"blue\")\n",
    "plt.xlim([0.4, 1.6])\n",
    "ax6.text(1.4, 6.4, '100 nm', color='blue', fontsize=12)\n",
    "#plt.ylim([-0, 2])\n",
    "plt.grid(alpha=0.5)\n",
    "#plt.savefig('Georges//Avg_temperature_increase_x_P.png',dpi=300,format='png')\n",
    "plt.show()"
   ]
  },
  {
   "cell_type": "markdown",
   "id": "85b86fb2-9fec-4f48-9c7c-4bcfc3d186fc",
   "metadata": {},
   "source": [
    "fig7 = plt.figure(7)\n",
    "ax7 = plt.gca()\n",
    "plt.xticks(fontsize=12)\n",
    "plt.yticks(fontsize=12)\n",
    "plt.ylabel('$\\\\Delta T_{np}$ (m $^{o}$C)', fontsize=12)\n",
    "plt.xlabel('Diameter (nm)', fontsize=12)\n",
    "#plt.rcParams['figure.figsize'] = (10, 5)\n",
    "plt.errorbar(diam, meas1_Tnp, yerr = 0.1*meas1_Tnp, fmt ='o', color = \"black\")\n",
    "#plt.plot(diam, meas2_Tnp, 'ko')\n",
    "plt.xlim([-5, 105])\n",
    "#plt.ylim([-0.1, 2.6])\n",
    "#plt.grid(alpha=0.5)\n",
    "plt.legend(['P$_{e}$ = 1.33 mW'], fontsize=12, loc=2)\n",
    "ax71 = ax7.twinx()\n",
    "ax71.plot(2*r,S2F/(1e-7),'x--',color='r')\n",
    "ax71.yaxis.set_tick_params(which='major', direction='in', top='on', labelcolor = 'r')\n",
    "ax71.set_ylabel('Steady-state factor $\\\\times$ 10$^{-7}$ (m)',color=\"r\", fontsize=12)\n",
    "ax71.tick_params(axis='y', labelsize=12)\n",
    "#ax71.set_ylim([-0.1,5.2])\n",
    "#plt.savefig('Georges//Figure_5(a).pdf',dpi=300,format='pdf')\n",
    "plt.show()"
   ]
  },
  {
   "cell_type": "code",
   "execution_count": 10,
   "id": "281837cf-f433-47b7-8507-49cce0ccd88b",
   "metadata": {},
   "outputs": [
    {
     "name": "stderr",
     "output_type": "stream",
     "text": [
      "C:\\Users\\Tulio\\AppData\\Local\\Temp\\ipykernel_21468\\375576261.py:12: UserWarning: color is redundantly defined by the 'color' keyword argument and the fmt string \"ro-\" (-> color='r'). The keyword argument will take precedence.\n",
      "  ax81.plot(2*r,S2F/(1e-7),'ro-',color='r')\n"
     ]
    },
    {
     "data": {
      "image/png": "[encoded data removed]",
      "text/plain": [
       "<Figure size 432x288 with 2 Axes>"
      ]
     },
     "metadata": {
      "needs_background": "light"
     },
     "output_type": "display_data"
    }
   ],
   "source": [
    "fig8 = plt.figure(8)\n",
    "ax8 = plt.gca()\n",
    "ax8.tick_params(axis='both', direction=\"in\", which='major', labelsize=14)\n",
    "plt.xticks(fontsize=14)\n",
    "plt.yticks(fontsize=14)\n",
    "plt.ylabel('Joule number', fontsize=16)\n",
    "plt.xlabel('Diameter (nm)', fontsize=16)\n",
    "#plt.rcParams['figure.figsize'] = (10, 5)\n",
    "plt.plot(2*r, Jo, 'bo-')\n",
    "plt.xlim([0, 105])\n",
    "ax81 = ax8.twinx()\n",
    "ax81.plot(2*r,S2F/(1e-7),'ro-',color='r')\n",
    "ax81.yaxis.set_tick_params(which='major', direction='in', top='on', labelcolor = 'k')\n",
    "ax81.set_ylabel('Steady-state factor $\\\\times$ 10$^{-7}$ (m)',color=\"k\", fontsize=16)\n",
    "ax81.tick_params(axis='y', labelsize=14)\n",
    "plt.arrow(80, 3.5, 20, 0, width = 0.02, color='r', head_width = 0.15, head_length = 1.5)\n",
    "plt.arrow(25, 2.6, -20, 0, width = 0.02, color='b', head_width = 0.15, head_length = 1.5)\n",
    "#ax81.set_ylim([0,4])\n",
    "#plt.savefig('Georges//Figure_2.png',dpi=300,format='png')\n",
    "plt.savefig('Georges//Final//Figure_1.pdf',dpi=300,format='pdf')\n",
    "plt.show()"
   ]
  },
  {
   "cell_type": "code",
   "execution_count": 11,
   "id": "f36ef250-d3b0-4588-8c67-ad8d1d99a228",
   "metadata": {},
   "outputs": [],
   "source": [
    "# you'll find Izt requested (at V=1.58 with tc=9.6ms)"
   ]
  },
  {
   "cell_type": "code",
   "execution_count": 12,
   "id": "96c06cec-eec8-4d54-946c-ba57814c99b7",
   "metadata": {},
   "outputs": [],
   "source": [
    "fic = npy.loadtxt('Georges//fic.txt')"
   ]
  },
  {
   "cell_type": "code",
   "execution_count": 13,
   "id": "19f89c5b-12c5-49f5-a8cb-2f12d2bf06a6",
   "metadata": {},
   "outputs": [],
   "source": [
    "ficS = npy.loadtxt('Georges//ficS.txt')"
   ]
  },
  {
   "cell_type": "code",
   "execution_count": 14,
   "id": "8a6e34fd-8ca4-4961-9d2d-f82bd8a1c45e",
   "metadata": {},
   "outputs": [],
   "source": [
    "xdata = ficS[:,0]\n",
    "ydata = ficS[:,1]"
   ]
  },
  {
   "cell_type": "code",
   "execution_count": 15,
   "id": "208ec6bc-610c-49c5-b463-088c5531898f",
   "metadata": {},
   "outputs": [],
   "source": [
    "P = 1.33e-3\n",
    "L = 1e-2\n",
    "dndT = 0.8e-4\n",
    "wl = 532e-9\n",
    "km = 0.6"
   ]
  },
  {
   "cell_type": "code",
   "execution_count": 16,
   "id": "9e946c18-47c9-484e-831c-d41558e01de6",
   "metadata": {},
   "outputs": [],
   "source": [
    "# Define the Z-scan profile\n",
    "def Zscan(V, alpha):\n",
    "    S = 1/(1 - (P*L*dndT/(wl*km))*alpha*npy.arctan(2*V/(3 + V**2))) - 1\n",
    "    return S"
   ]
  },
  {
   "cell_type": "code",
   "execution_count": 17,
   "id": "ef415f81-d8c8-4e99-ab25-4fb331647e52",
   "metadata": {},
   "outputs": [],
   "source": [
    "parameters, covariance = curve_fit(Zscan, xdata, ydata)"
   ]
  },
  {
   "cell_type": "code",
   "execution_count": 18,
   "id": "b596434b-cb08-4501-9f94-54f8039eae7d",
   "metadata": {},
   "outputs": [
    {
     "name": "stdout",
     "output_type": "stream",
     "text": [
      "[60.83713197]\n",
      "[409.16264042]\n"
     ]
    }
   ],
   "source": [
    "fit_alpha = parameters\n",
    "print(fit_alpha)\n",
    "\n",
    "alpha_a = (1/L)*npy.log(fit_alpha - 1)\n",
    "print(alpha_a)\n",
    "\n",
    "v = npy.linspace(-2,2)"
   ]
  },
  {
   "cell_type": "markdown",
   "id": "2cf8b1e1-5c5e-477a-8e70-ebf09ae9ea2f",
   "metadata": {},
   "source": [
    "fig9, ax9 = plt.subplots()\n",
    "\n",
    "plt.xticks(fontsize=12)\n",
    "plt.yticks(fontsize=12)\n",
    "plt.ylabel('TL signal', fontsize=12)\n",
    "plt.xlabel('Time (ms)', fontsize=12)\n",
    "plt.xlim([-1, 51])\n",
    "\n",
    "# These are in unitless percentages of the figure size. (0,0 is bottom left)\n",
    "left, bottom, width, height = [0.528, 0.5, 0.35, 0.35]\n",
    "ax92 = fig9.add_axes([left, bottom, width, height])\n",
    "\n",
    "ax9.plot(fic[:,0]*1000, fic[:,1], color='blue')\n",
    "plt.xticks(fontsize=9)\n",
    "plt.yticks(fontsize=9)\n",
    "plt.ylabel('S', fontsize=11)\n",
    "plt.xlabel('V', fontsize=11)\n",
    "plt.xlim([-2, 2])\n",
    "\n",
    "ax92.plot(v, Zscan(v,fit_alpha), '-', color='red')\n",
    "ax92.plot(ficS[:,0], ficS[:,1], 'o', markersize=3, color='black')\n",
    "\n",
    "#plt.savefig('Georges//Figure_3(a).png',dpi=300,format='png')\n",
    "plt.show()"
   ]
  },
  {
   "cell_type": "code",
   "execution_count": 19,
   "id": "22b9b5fa-0a63-4ad2-8e0f-eb137653bd19",
   "metadata": {},
   "outputs": [],
   "source": [
    "fic5 = npy.loadtxt('Georges//fic5.txt')\n",
    "fic50 = npy.loadtxt('Georges//fic50.txt')\n",
    "fic100 = npy.loadtxt('Georges//fic100.txt')"
   ]
  },
  {
   "cell_type": "markdown",
   "id": "270a3976-0cc7-477e-98b1-75b0c49e661a",
   "metadata": {},
   "source": [
    "fig10 = plt.figure(10)\n",
    "ax10 = plt.gca()\n",
    "plt.xticks(fontsize=12)\n",
    "plt.yticks(fontsize=12)\n",
    "#plt.figsize=(8,4)\n",
    "plt.ylabel('$\\\\Delta$T $\\\\times$ $10^{-3}$ ($^\\mathrm{o}$C)', fontsize=12)\n",
    "plt.xlabel('r / $w_\\\\mathrm{0f}$', fontsize=12)\n",
    "#plt.rcParams['figure.figsize'] = (10, 5)\n",
    "ax10.plot(fic5[:,0], fic5[:,1]*1000, linewidth=2, color='red')\n",
    "ax10.plot(fic50[:,0], fic50[:,1]*1000, linewidth=2, color='black')\n",
    "ax10.plot(fic100[:,0], fic100[:,1]*1000, linewidth=2, color='blue')\n",
    "plt.xlim([0, 4])\n",
    "plt.xticks([0, 1, 2, 3, 4])\n",
    "plt.text(0.4, 0.023*1000, '5 nm', color='r', fontsize=12)\n",
    "plt.text(0.4, 0.035*1000, ' 50 nm', color='k', fontsize=12)\n",
    "plt.text(0.4, 0.009*1000, '100 nm', color='b', fontsize=12)\n",
    "#plt.savefig('Georges//Figure_3(b).png',dpi=300,format='png')\n",
    "plt.show()"
   ]
  },
  {
   "cell_type": "code",
   "execution_count": 20,
   "id": "a98f2bdb-e8d3-4ed1-ad6e-4dbb7b14ab45",
   "metadata": {},
   "outputs": [],
   "source": [
    "import string"
   ]
  },
  {
   "cell_type": "code",
   "execution_count": 21,
   "id": "1f18cb4b-0f11-4e22-9184-9202a550680e",
   "metadata": {},
   "outputs": [
    {
     "data": {
      "image/png": "[encoded data removed]",
      "text/plain": [
       "<Figure size 720x288 with 3 Axes>"
      ]
     },
     "metadata": {
      "needs_background": "light"
     },
     "output_type": "display_data"
    }
   ],
   "source": [
    "fig11, axs11 = plt.subplots(1,2,figsize=(10,4), sharex=False, sharey=False)\n",
    "axs11 = axs11.flat\n",
    "\n",
    "for n, ax in enumerate(axs11):\n",
    "    if n==0:\n",
    "        ax.tick_params(axis='both', direction=\"in\", which='major', labelsize=14)\n",
    "        ax.plot(fic[:,0]*1000, fic[:,1], color='blue')\n",
    "        ax.set_xlabel('Time (ms)', fontsize=16)\n",
    "        ax.set_ylabel('TL signal', fontsize=16)\n",
    "        #ax.set_xticks([0, 12.5, 25, 37.5, 50])\n",
    "        ax.set_xlim(-1, 51)\n",
    "\n",
    "        # These are in unitless percentages of the figure size. (0,0 is bottom left)\n",
    "        left, bottom, width, height = [0.3, 0.55, 0.15, 0.25]\n",
    "        ax112 = fig11.add_axes([left, bottom, width, height])\n",
    "        ax112.plot(v, Zscan(v,fit_alpha), '-', color='red')\n",
    "        ax112.plot(ficS[:,0], ficS[:,1], 'o', markersize=3, color='black')\n",
    "        ax112.set_xlabel('V', fontsize=12)\n",
    "        ax112.set_ylabel('S', fontsize=12)\n",
    "        ax112.set_xticks([-2, -1, 0, 1, 2])\n",
    "        ax112.set_xlim(-2, 2)\n",
    "        \n",
    "    if n==1:\n",
    "        ax.tick_params(axis='both', direction=\"in\", which='major', labelsize=14)\n",
    "        ax.plot(fic5[:,0], fic5[:,1]*1000, linewidth=2, color='red')\n",
    "        ax.plot(fic50[:,0], fic50[:,1]*1000, linewidth=2, color='black')\n",
    "        ax.plot(fic100[:,0], fic100[:,1]*1000, linewidth=2, color='blue')\n",
    "        ax.set_xlabel('r / $w_\\\\mathrm{0f}$', fontsize=16)\n",
    "        ax.set_ylabel('$\\\\Delta$T (m $^\\mathrm{o}$C)', fontsize=16)\n",
    "        ax.set_xticks([0, 1, 2, 3, 4])\n",
    "        ax.set_xlim(0, 4)\n",
    "        ax.text(0.4, 0.019*1000, '5 nm', color='r', fontsize=16)\n",
    "        ax.text(0.4, 0.035*1000, ' 50 nm', color='k', fontsize=16)\n",
    "        ax.text(0.4, 0.006*1000, '100 nm', color='b', fontsize=16)\n",
    "        \n",
    "    ax.text(-0.1, 1.0, string.ascii_uppercase[n], transform=ax.transAxes, size=20)\n",
    "    \n",
    "plt.savefig('Georges//Final//Figure_3.pdf',dpi=300,format='pdf')\n",
    "plt.savefig('Georges//Final//Figure_3.png',dpi=300,format='png')\n",
    "plt.show()"
   ]
  },
  {
   "cell_type": "code",
   "execution_count": 26,
   "id": "3ee19506-0cc8-4926-9dd9-a4b0b4a4da14",
   "metadata": {},
   "outputs": [
    {
     "data": {
      "image/png": "[encoded data removed]",
      "text/plain": [
       "<Figure size 720x288 with 4 Axes>"
      ]
     },
     "metadata": {
      "needs_background": "light"
     },
     "output_type": "display_data"
    }
   ],
   "source": [
    "fig12, axs12 = plt.subplots(1,2,figsize=(10,4), sharex=False, sharey=False)\n",
    "axs12 = axs12.flat\n",
    "#fig12.tight_layout(pad=1.0)\n",
    "\n",
    "for n, ax in enumerate(axs12):\n",
    "    if n==0:\n",
    "        #ax.tick_params(axis='both', direction=\"in\", which='major', labelsize=14)\n",
    "        #ax.errorbar(diam, meas1_Tnp, yerr = 0.1*meas1_Tnp, fmt ='o', color = \"black\")\n",
    "        #ax.set_xlabel('Diameter (nm)', fontsize=16)\n",
    "        #ax.set_ylabel('$\\\\Delta T_{np}$ (m $^{o}$C)', fontsize=16)\n",
    "        ##ax.set_xticks([0, 12.5, 25, 37.5, 50])\n",
    "        #ax.set_xlim(-5, 105)\n",
    "        #plt.legend(['P$_{e}$ = 1.33 mW'], fontsize=12, loc=2)\n",
    "        #ax121 = ax.twinx()\n",
    "        #ax121.plot(2*r,S2F/(1e-7),'x--',color='r')\n",
    "        #ax121.yaxis.set_tick_params(which='major', direction='in', top='on', labelcolor = 'r')\n",
    "        #ax121.set_ylabel('Steady-state factor $\\\\times$ 10$^{-7}$ (m)',color=\"r\", fontsize=16)\n",
    "        #ax121.tick_params(axis='y', labelsize=14)        \n",
    "        \n",
    "        ax.tick_params(axis='both', direction=\"in\", which='major', labelsize=14)\n",
    "        ax.plot(2*r,S2F/(1e-7),'x--',color='r')\n",
    "        ax.yaxis.set_tick_params(which='major', direction='in', top='on', labelcolor = 'r')\n",
    "        ax.set_xlabel('Diameter (nm)', fontsize=16)\n",
    "        ax.set_ylabel('Steady-state factor $\\\\times$ 10$^{-7}$ (m)',color=\"r\", fontsize=16)\n",
    "        #ax.set_xticks([0, 12.5, 25, 37.5, 50])\n",
    "        ax121 = ax.twinx()\n",
    "        ax121.errorbar(diam, meas1_Tnp, yerr = 0.1*meas1_Tnp, fmt ='o', color = \"black\")\n",
    "        ax121.set_xlim(-5, 105)\n",
    "        ax121.tick_params(axis='y', labelsize=14)        \n",
    "        ax121.legend(['P$_{e}$ = 1.33 mW'], fontsize=12, loc=2)\n",
    "        \n",
    "    if n==1:\n",
    "        ax.tick_params(axis='both', direction=\"in\", which='major', labelsize=14)\n",
    "        ax.set_yticks([])\n",
    "        ax122 = ax.twinx()\n",
    "        ax122.tick_params(axis='both', direction=\"in\", which='major', labelsize=14)\n",
    "        ax122.errorbar(P_5, Tnp_5, yerr = 0.1*Tnp_5, fmt ='s', color = \"red\")\n",
    "        ax122.text(1.4, 0, '5 nm', color='red', fontsize=14)\n",
    "        ax122.errorbar(P_50, Tnp_50, yerr = 0.1*Tnp_50, fmt ='^', color = \"black\")\n",
    "        ax122.text(1.4, 1, '50 nm', color='black', fontsize=14)\n",
    "        ax122.errorbar(P_100, Tnp_100, yerr = 0.1*Tnp_100, fmt ='o', color = \"blue\")\n",
    "        ax122.text(1.4, 2.3, '100 nm', color='blue', fontsize=14)\n",
    "        ax122.set_ylabel('$\\\\Delta T_{np}$ (m $^{o}$C)', fontsize=16)\n",
    "        ax.set_xlabel('Excitation power (mW)', fontsize=16)\n",
    "        ax122.set_xlim(0.8, 1.6)\n",
    "        \n",
    "    ax.text(0, 1.03, string.ascii_uppercase[n], transform=ax.transAxes, size=20)\n",
    "    \n",
    "plt.savefig('Georges//Final//Figure_4.pdf',dpi=300,format='pdf')\n",
    "plt.savefig('Georges//Final//Figure_4.png',dpi=300,format='png')\n",
    "plt.show()"
   ]
  },
  {
   "cell_type": "code",
   "execution_count": null,
   "id": "d1c691c0-9b3b-47de-a109-b50d50d2b358",
   "metadata": {},
   "outputs": [],
   "source": []
  }
 ],
 "metadata": {
  "kernelspec": {
   "display_name": "Python 3 (ipykernel)",
   "language": "python",
   "name": "python3"
  },
  "language_info": {
   "codemirror_mode": {
    "name": "ipython",
    "version": 3
   },
   "file_extension": ".py",
   "mimetype": "text/x-python",
   "name": "python",
   "nbconvert_exporter": "python",
   "pygments_lexer": "ipython3",
   "version": "3.10.2"
  }
 },
 "nbformat": 4,
 "nbformat_minor": 5
}
