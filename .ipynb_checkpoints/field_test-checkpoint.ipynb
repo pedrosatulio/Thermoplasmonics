{
 "cells": [
  {
   "cell_type": "code",
   "execution_count": 1,
   "metadata": {},
   "outputs": [],
   "source": [
    "import math\n",
    "import numpy as npy\n",
    "from scipy import special as sp"
   ]
  },
  {
   "cell_type": "code",
   "execution_count": 2,
   "metadata": {},
   "outputs": [],
   "source": [
    "def incident_field(r,theta,phi,mu1,omega,k,v_max):\n",
    "    # Parâmetros gerais e constantes\n",
    "    mu0 = 4*math.pi*(1e-7)                                               # Permeabilidade magnética do vácuo\n",
    "    E_0 = 1                                                              # Magnitude do campo elétrico incidente (V/m)\n",
    "    E_n = npy.empty(v_max, dtype=npy.cfloat)                             # Constante de ordem do campo elétrico\n",
    "    pi_n = npy.empty(v_max, dtype=npy.cfloat)                            # Função de dependência angular 1\n",
    "    tau_n = npy.empty(v_max, dtype=npy.cfloat)                           # Função de dependência angular 2\n",
    "    Mo1np_theta = npy.empty(v_max, dtype=npy.cfloat)                     # Componente theta Mo1n^(p)\n",
    "    Mo1np_phi = npy.empty(v_max, dtype=npy.cfloat)                       # Componente phi Mo1n^(p)\n",
    "    Me1np_theta = npy.empty(v_max, dtype=npy.cfloat)                     # Componente theta Me1n^(p)\n",
    "    Me1np_phi = npy.empty(v_max, dtype=npy.cfloat)                       # Componente phi Me1n^(p)\n",
    "    No1np_r = npy.empty(v_max, dtype=npy.cfloat)                         # Componente r No1n^(p)\n",
    "    No1np_theta = npy.empty(v_max, dtype=npy.cfloat)                     # Componente theta No1n^(p)\n",
    "    No1np_phi = npy.empty(v_max, dtype=npy.cfloat)                       # Componente phi No1n^(p)\n",
    "    Ne1np_r = npy.empty(v_max, dtype=npy.cfloat)                         # Componente r Ne1n^(p)\n",
    "    Ne1np_theta = npy.empty(v_max, dtype=npy.cfloat)                     # Componente theta Ne1n^(p)\n",
    "    Ne1np_phi = npy.empty(v_max, dtype=npy.cfloat)                       # Componente phi Ne1n^(p)\n",
    "    # Cálculo dos parâmetros\n",
    "    E_n[0] = E_0\n",
    "    pi_n[0] = 0\n",
    "    pi_n[1] = 1\n",
    "    for v in range(1,v_max,1):\n",
    "        E_n[v] = ((1.0j)**v)*((2*v+1)/(v*(v+1)))*E_0\n",
    "        if v>1:\n",
    "            pi_n[v] = ((2*v-1)/(v-1))*npy.cos(theta)*pi_n[v-1] - v/(v-1)*pi_n[v-2]\n",
    "        tau_n[v] = v*npy.cos(theta)*pi_n[v] - (v+1)*pi_n[v-1]\n",
    "        Mo1np_theta[v] = npy.cos(phi)*pi_n[v]*(sp.spherical_jn(v,k*r)+(1.0j)*sp.spherical_yn(v,k*r))\n",
    "        Mo1np_phi[v] = -npy.sin(phi)*tau_n[v]*(sp.spherical_jn(v,k*r)+(1.0j)*sp.spherical_yn(v,k*r))\n",
    "        Me1np_theta[v] = -npy.sin(phi)*pi_n[v]*(sp.spherical_jn(v,k*r)+(1.0j)*sp.spherical_yn(v,k*r))\n",
    "        Me1np_phi[v] = -npy.cos(phi)*tau_n[v]*(sp.spherical_jn(v,k*r)+(1.0j)*sp.spherical_yn(v,k*r))\n",
    "        No1np_r[v] = npy.sin(phi)*v*(v+1)*npy.sin(theta)*pi_n[v]*((sp.spherical_jn(v,k*r)+(1.0j)*sp.spherical_yn(v,k*r))/(k*r))\n",
    "        No1np_theta[v] = npy.sin(phi)*tau_n[v]*((sp.spherical_jn(v-1,k*r)+(1.0j)*sp.spherical_yn(v-1,k*r)) - (v/(k*r))*(sp.spherical_jn(v,k*r)+(1.0j)*sp.spherical_yn(v,k*r)))\n",
    "        No1np_phi[v] = npy.cos(phi)*pi_n[v]*((sp.spherical_jn(v-1,k*r)+(1.0j)*sp.spherical_yn(v-1,k*r)) - (v/(k*r))*(sp.spherical_jn(v,k*r)+(1.0j)*sp.spherical_yn(v,k*r)))\n",
    "        Ne1np_r[v] = npy.cos(phi)*v*(v+1)*npy.sin(theta)*pi_n[v]*((sp.spherical_jn(v,k*r)+(1.0j)*sp.spherical_yn(v,k*r))/(k*r))\n",
    "        Ne1np_theta[v] = npy.cos(phi)*tau_n[v]*((sp.spherical_jn(v-1,k*r)+(1.0j)*sp.spherical_yn(v-1,k*r)) - (v/(k*r))*(sp.spherical_jn(v,k*r)+(1.0j)*sp.spherical_yn(v,k*r)))\n",
    "        Ne1np_phi[v] = -npy.sin(phi)*pi_n[v]*((sp.spherical_jn(v-1,k*r)+(1.0j)*sp.spherical_yn(v-1,k*r)) - (v/(k*r))*(sp.spherical_jn(v,k*r)+(1.0j)*sp.spherical_yn(v,k*r)))\n",
    "    # Cálculo dos campos\n",
    "    Ei_r = 0\n",
    "    Ei_theta = 0\n",
    "    Ei_phi = 0\n",
    "    Hi_r = 0\n",
    "    Hi_theta = 0\n",
    "    Hi_phi = 0\n",
    "    for v in range(1,v_max,1):\n",
    "        Ei_r += -(1.0j)*E_n[v]*Ne1np_r[v]\n",
    "        Ei_theta += E_n[v]*(Mo1np_theta[v]-(1.0j)*Ne1np_theta[v])\n",
    "        Ei_phi += E_n[v]*(Mo1np_phi[v]-(1.0j)*Ne1np_phi[v])\n",
    "        Hi_r += -(1.0j)*k*E_n[v]*No1np_r[v]/(omega*mu0)\n",
    "        Hi_theta += -k*E_n[v]*(Me1np_theta[v]+(1.0j)*No1np_theta[v])/(omega*mu0)\n",
    "        Hi_phi += -k*E_n[v]*(Me1np_phi[v]+(1.0j)*No1np_phi[v])/(omega*mu0)\n",
    "    # Estruturação dos vetores de campo\n",
    "    Ei = npy.array([Ei_r, Ei_theta, Ei_phi])\n",
    "    Hi = npy.array([Hi_r, Hi_theta, Hi_phi])\n",
    "    return Ei, Hi"
   ]
  },
  {
   "cell_type": "code",
   "execution_count": 3,
   "metadata": {},
   "outputs": [],
   "source": [
    "if __name__ == \"__main__\":\n",
    "    incident_field(r,theta,phi,mu1,omega,k,v_max)"
   ]
  },
  {
   "cell_type": "code",
   "execution_count": null,
   "metadata": {},
   "outputs": [],
   "source": []
  }
 ],
 "metadata": {
  "kernelspec": {
   "display_name": "Python 3",
   "language": "python",
   "name": "python3"
  },
  "language_info": {
   "codemirror_mode": {
    "name": "ipython",
    "version": 3
   },
   "file_extension": ".py",
   "mimetype": "text/x-python",
   "name": "python",
   "nbconvert_exporter": "python",
   "pygments_lexer": "ipython3",
   "version": "3.7.3"
  }
 },
 "nbformat": 4,
 "nbformat_minor": 2
}
