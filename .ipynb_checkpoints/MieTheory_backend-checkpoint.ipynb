{
 "cells": [
  {
   "cell_type": "code",
   "execution_count": 1,
   "metadata": {},
   "outputs": [],
   "source": [
    "# Importação das bibliotecas"
   ]
  },
  {
   "cell_type": "code",
   "execution_count": 2,
   "metadata": {},
   "outputs": [],
   "source": [
    "import os\n",
    "import math\n",
    "import shutil\n",
    "import numpy as npy\n",
    "from scipy.interpolate import interp1d\n",
    "from shell_optical_cs_calc import shell_optical_param\n",
    "from sphere_optical_cs_calc import sphere_optical_param"
   ]
  },
  {
   "cell_type": "code",
   "execution_count": 3,
   "metadata": {},
   "outputs": [],
   "source": [
    "#Definição dos parâmetros de análise e importação dos parâmetros materiais\n",
    "    #geometry = 'Shell'\n",
    "    #core_material = 'Silica'\n",
    "    #shell_material = 'Au'                                    # Se a NP for uma nanoesfera, shell_material equivale ao\n",
    "    #                                                         #         material da esfera\n",
    "    #N = 1.33                                                 # índice de refração do meio\n",
    "    #lambda_min = 200                                         # Início da região de exibição no plot\n",
    "    #lambda_max = 1800                                        # Fim da região de exibição no plot\n",
    "    #if geometry is 'Sphere':\n",
    "    #    a = (1e-9)*(50/2)                                    # raio da nanopartícula\n",
    "    #    t = 0                                                # espessura da casca\n",
    "    #else:\n",
    "    #    a = (1e-9)*(50/2)                                    # raio do núcleo\n",
    "    #    t = (1e-9)*10                                        # espessura da casca"
   ]
  },
  {
   "cell_type": "code",
   "execution_count": 4,
   "metadata": {},
   "outputs": [],
   "source": [
    "def mie_theory(geometry,core_material,shell_material,lambda_min,lambda_max,a,t,N,v_max):\n",
    "    # Cálculo do raio da casca\n",
    "    b = a + t                                                # raio total da nanopartícula\n",
    "    # Índice de refração complexo da casca ou NP\n",
    "    def material_out(shell_material):\n",
    "        return{\n",
    "            'Ag': 'Ag_Johnson.txt',\n",
    "            'Al': 'Al_McPeak.txt',\n",
    "            'Au': 'Au_Johnson.txt',\n",
    "            'Cu': 'Cu_Johnson.txt',\n",
    "            'W': 'W_Werner.txt',\n",
    "        }[shell_material]\n",
    "    wl2 = (1e-6)*npy.loadtxt('Materials/n_'+material_out(shell_material),usecols=0)\n",
    "    n2_np = npy.loadtxt('Materials/n_'+material_out(shell_material),usecols=1)\n",
    "    k2_np = npy.loadtxt('Materials/k_'+material_out(shell_material),usecols=1)\n",
    "    # Índice de refração complexo do núcleo\n",
    "    if geometry is 'Shell':\n",
    "        if core_material is 'Silica':\n",
    "            wl1 = (1e-6)*npy.loadtxt('Materials/n_SiO2_Malitson.txt',usecols=0)\n",
    "            n1_np = npy.loadtxt('Materials/n_SiO2_Malitson.txt',usecols=1)\n",
    "            k1_np = 0*npy.empty(len(wl1), dtype=npy.float)\n",
    "        elif core_material is 'Water':\n",
    "            wl1 = wl2\n",
    "            n1_np = 1.33*npy.empty(len(wl1), dtype=npy.float)\n",
    "            k1_np = 0*npy.empty(len(wl1), dtype=npy.float)\n",
    "        elif core_material is 'Air':\n",
    "            wl1 = wl2\n",
    "            n1_np = 1*npy.empty(len(wl1), dtype=npy.float)\n",
    "            k1_np = 0*npy.empty(len(wl1), dtype=npy.float)\n",
    "    else:\n",
    "        wl1 = wl2\n",
    "        n1_np = 0*npy.empty(len(wl1), dtype=npy.float)\n",
    "        k1_np = 0*npy.empty(len(wl1), dtype=npy.float)\n",
    "    # Permeabilidades magnéticas (temporariamente fixadas)\n",
    "    mu1_r = 1                                                # permeabilidade magnética relativa do núcleo (real)\n",
    "    mu1_i = 0                                                # permeabilidade magnética relativa da núcleo (imaginária)\n",
    "    mu2_r = 1                                                # permeabilidade magnética relativa da casca ou NP (real)\n",
    "    mu2_i = 0                                                # permeabilidade magnética relativa da casca ou NP (imaginária)\n",
    "    mu1 = mu1_r + mu1_i*(1.0j)                               # permeabilidade magnética complexa da nanopartícula\n",
    "    mu2 = mu2_r + mu2_i*(1.0j)                               # permeabilidade magnética complexa da nanopartícula\n",
    "    # Determinação dos limites de comprimento de onda\n",
    "    if wl2[0]<=wl1[0]:\n",
    "        wl_min = wl1[0]\n",
    "    else:\n",
    "        wl_min = wl2[0]\n",
    "    if wl2[len(wl2)-1]<=wl1[len(wl1)-1]:\n",
    "        wl_max = wl2[len(wl2)-1]\n",
    "    else:\n",
    "        wl_max = wl1[len(wl1)-1]\n",
    "    # Interpolação dos índices de refração\n",
    "    wl_smooth = npy.linspace(wl_min, wl_max, num=400, endpoint=True)\n",
    "    fn1_np = interp1d(wl1, n1_np, kind='cubic')\n",
    "    fk1_np = interp1d(wl1, k1_np, kind='cubic')\n",
    "    fn2_np = interp1d(wl2, n2_np, kind='cubic')\n",
    "    fk2_np = interp1d(wl2, k2_np, kind='cubic')\n",
    "    N1 = fn1_np(wl_smooth) + fk1_np(wl_smooth)*(1.0j)\n",
    "    N2 = fn2_np(wl_smooth) + fk2_np(wl_smooth)*(1.0j)\n",
    "    # Parâmetros ópticos\n",
    "    k = (2*math.pi*N)/wl_smooth                              # número de onda do meio\n",
    "    k1 = (2*math.pi*N1)/wl_smooth                            # número de onda do núcleo\n",
    "    k2 = (2*math.pi*N2)/wl_smooth                            # número de onda da casca ou NP\n",
    "    m1 = N1/N                                                # índice de refração relativo do núcleo\n",
    "    m2 = N2/N                                                # índice de refração relativo da casca ou NP\n",
    "    x = k*a                                                  # parâmetro de tamanho (esfera)\n",
    "    y = k*b                                                  # parâmetro de tamanho (casca)\n",
    "    if geometry is 'Sphere':\n",
    "        v_max = math.ceil(x[0] + x[0]**(1/3) + 2)            # ordem máxima necessária (esfera)\n",
    "    else:\n",
    "        v_max = math.ceil(y[0] + y[0]**(1/3) + 2)            # ordem máxima necessária (casca)\n",
    "    Qsca = npy.empty(len(x), dtype=npy.float)                # array para serção de espalhamento\n",
    "    Qext = npy.empty(len(x), dtype=npy.float)                # array para serção de extinção\n",
    "    Qabs = npy.empty(len(x), dtype=npy.float)                # array para serção de absorção\n",
    "    #if os.path.exists('Coeffs'):\n",
    "    #    shutil.rmtree('Coeffs')\n",
    "    for index in range(0,len(wl_smooth),1):\n",
    "        if geometry is 'Sphere':\n",
    "            temp = sphere_optical_param(m2[index],mu1,(1e9)*wl_smooth[index],k[index],x[index],v_max)\n",
    "        else:\n",
    "            temp = shell_optical_param(m1[index],m2[index],mu1,mu2,(1e9)*wl_smooth[index],k[index],x[index],y[index],v_max)\n",
    "        Qsca[index] = temp[0]\n",
    "        Qext[index] = temp[1]\n",
    "        Qabs[index] = temp[2]\n",
    "    return Qsca, Qext, Qabs"
   ]
  },
  {
   "cell_type": "code",
   "execution_count": 5,
   "metadata": {},
   "outputs": [],
   "source": [
    "if __name__ == \"__main__\":\n",
    "    mie_theory(geometry,core_material,shell_material,lambda_min,lambda_max,a,t,N,v_max)"
   ]
  },
  {
   "cell_type": "code",
   "execution_count": null,
   "metadata": {},
   "outputs": [],
   "source": []
  }
 ],
 "metadata": {
  "kernelspec": {
   "display_name": "Python 3",
   "language": "python",
   "name": "python3"
  },
  "language_info": {
   "codemirror_mode": {
    "name": "ipython",
    "version": 3
   },
   "file_extension": ".py",
   "mimetype": "text/x-python",
   "name": "python",
   "nbconvert_exporter": "python",
   "pygments_lexer": "ipython3",
   "version": "3.7.3"
  }
 },
 "nbformat": 4,
 "nbformat_minor": 2
}
