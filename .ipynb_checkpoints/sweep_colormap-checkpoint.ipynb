{
 "cells": [
  {
   "cell_type": "code",
   "execution_count": 1,
   "metadata": {},
   "outputs": [],
   "source": [
    "import os\n",
    "import math\n",
    "import numpy as npy\n",
    "import scipy.signal as sp\n",
    "import RefractiveIndex as ri\n",
    "import matplotlib.pyplot as plt\n",
    "import opticalCrossSection as ocs"
   ]
  },
  {
   "cell_type": "markdown",
   "metadata": {},
   "source": [
    "### Step 1: Parameter setting (manual)"
   ]
  },
  {
   "cell_type": "code",
   "execution_count": 2,
   "metadata": {},
   "outputs": [],
   "source": [
    "# Definição dos parâmetros de análise e importação dos parâmetros materiais\n",
    "\n",
    "## Se a NP for uma nanoesfera, shell_material equivale ao material da esfera\n",
    "shell_material = 'Au'                                    \n",
    "core_material = 'Silica'\n",
    "medium_material = 'Water'\n",
    "\n",
    "## Se True, é nanocasca. Se False, é nanoesfera\n",
    "isShell = True\n",
    "\n",
    "## Incluir correção de drude?\n",
    "drude = False\n",
    "\n",
    "## Raio da da nanoesfera ou núcleo (nm)\n",
    "a_min = 10\n",
    "a_max = 100\n",
    "a_res = 1\n",
    "\n",
    "## Espessura da casca (nm)\n",
    "t_min = 1\n",
    "t_max = 50\n",
    "t_res = 1\n",
    "\n",
    "## Extensão da análise\n",
    "lambda_min = 400                                         \n",
    "lambda_max = 1400\n",
    "lambda_ref = 1240"
   ]
  },
  {
   "cell_type": "markdown",
   "metadata": {},
   "source": [
    "### Step 2: Cross-section calculation (auto)"
   ]
  },
  {
   "cell_type": "code",
   "execution_count": 3,
   "metadata": {},
   "outputs": [],
   "source": [
    "r = npy.linspace(a_min,a_max,int((a_max-a_min)/a_res+1))\n",
    "th = npy.linspace(t_min,t_max,int((t_max-t_min)/t_res+1))\n",
    "lspr_d = npy.empty((len(r), len(th)))\n",
    "c_abs_d = npy.empty((len(r), len(th)))\n",
    "eta_abs_d = npy.empty((len(r), len(th)))\n",
    "joule_d = npy.empty((len(r), len(th)))\n",
    "s2f_d = npy.empty((len(r), len(th)))\n",
    "lspr_q = npy.empty((len(r), len(th)))\n",
    "c_abs_q = npy.empty((len(r), len(th)))\n",
    "eta_abs_q = npy.empty((len(r), len(th)))\n",
    "joule_q = npy.empty((len(r), len(th)))\n",
    "s2f_q = npy.empty((len(r), len(th)))\n",
    "for xx in range(0,len(r)-1,1):\n",
    "    for yy in range(0,len(th)-1,1):\n",
    "        a = r[xx]\n",
    "        t = th[yy]\n",
    "        if isShell:\n",
    "            b = a + t\n",
    "        else:\n",
    "            b = a\n",
    "        wlt, N, N1t, N2t, mu1, mu2 = ri.setupRI(shell_material,core_material,medium_material,\n",
    "                                                a,b,lambda_min,lambda_max,isShell,drude)\n",
    "        wl = []\n",
    "        N1 = []\n",
    "        N2 = []\n",
    "        for ii in range(0,len(wlt)-1,1):\n",
    "            if (((1e9)*wlt[ii])>=lambda_min) and (((1e9)*wlt[ii])<=lambda_max):\n",
    "                wl = npy.append(wl,wlt[ii])\n",
    "                N1 = npy.append(N1,N1t[ii])\n",
    "                N2 = npy.append(N2,N2t[ii])\n",
    "        if isShell:\n",
    "            Csca, Cext, Cabs = ocs.shellCS(wl*(1e9),N1,N2,N,mu1,mu2,a,b)\n",
    "        else:\n",
    "            Csca, Cext, Cabs = ocs.sphereCS(wl*(1e9),N2,N,mu2,a)\n",
    "        teste1, teste2= sp.find_peaks(Cext)\n",
    "        dindex = teste1[len(teste1)-1]\n",
    "        qindex = teste1[len(teste1)-2]\n",
    "        lspr_d[xx,yy] = (1e9)*float(wl[dindex])\n",
    "        lspr_q[xx,yy] = (1e9)*float(wl[qindex])\n",
    "        c_abs_d[xx,yy] = float(Cabs[dindex])\n",
    "        c_abs_q[xx,yy] = float(Cabs[qindex])\n",
    "        eta_abs_d[xx,yy] = float(Cabs[dindex]/Cext[dindex])\n",
    "        eta_abs_q[xx,yy] = float(Cabs[qindex]/Cext[qindex])\n",
    "        vol = 4*math.pi*((b*(1e-9))**3 - (a*(1e-9))**3)/3\n",
    "        Req = (3*vol/(4*math.pi))**(1/3)\n",
    "        joule_d[xx,yy] = lambda_ref*(1e-9)*((1e-18)*float(Cabs[dindex]))/(2*math.pi*vol)\n",
    "        joule_q[xx,yy] = lambda_ref*(1e-9)*((1e-18)*float(Cabs[qindex]))/(2*math.pi*vol)\n",
    "        s2f_d[xx,yy] = ((1e-18)*float(Cabs[dindex]))/Req\n",
    "        s2f_q[xx,yy] = ((1e-18)*float(Cabs[qindex]))/Req"
   ]
  },
  {
   "cell_type": "code",
   "execution_count": 5,
   "metadata": {},
   "outputs": [
    {
     "data": {
      "text/plain": [
       "<matplotlib.colorbar.Colorbar at 0x7f059e35c6d8>"
      ]
     },
     "execution_count": 5,
     "metadata": {},
     "output_type": "execute_result"
    },
    {
     "data": {
      "image/png": "[encoded data removed]",
      "text/plain": [
       "<Figure size 432x288 with 2 Axes>"
      ]
     },
     "metadata": {
      "needs_background": "light"
     },
     "output_type": "display_data"
    }
   ],
   "source": [
    "fig2 = plt.figure(2)\n",
    "ax2 = fig2.add_subplot(111)\n",
    "#ax2.set_yticklabels([])\n",
    "#ax2.set_xticklabels([])\n",
    "pc2 = ax2.pcolormesh(th,2*r,lspr_d,vmin=400,cmap='jet')\n",
    "ax2.set_title(\"$\\\\lambda_{LSPR}$ (nm) - Dipole\", va='bottom')\n",
    "fig2.colorbar(pc2)"
   ]
  },
  {
   "cell_type": "markdown",
   "metadata": {},
   "source": [
    "E0 = 1\n",
    "Pabs = (Cabs[analysis_index]*(1e-18))*(3e8)*N*eps0*(E0**2)/2\n",
    "print(Pabs)"
   ]
  },
  {
   "cell_type": "code",
   "execution_count": null,
   "metadata": {},
   "outputs": [],
   "source": []
  }
 ],
 "metadata": {
  "kernelspec": {
   "display_name": "Python 3",
   "language": "python",
   "name": "python3"
  },
  "language_info": {
   "codemirror_mode": {
    "name": "ipython",
    "version": 3
   },
   "file_extension": ".py",
   "mimetype": "text/x-python",
   "name": "python",
   "nbconvert_exporter": "python",
   "pygments_lexer": "ipython3",
   "version": "3.7.3"
  }
 },
 "nbformat": 4,
 "nbformat_minor": 2
}
