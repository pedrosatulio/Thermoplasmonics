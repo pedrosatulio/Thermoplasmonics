{
 "cells": [
  {
   "cell_type": "markdown",
   "metadata": {},
   "source": [
    "# Mie Theory + Thermoplasmonics Calculator"
   ]
  },
  {
   "cell_type": "code",
   "execution_count": 1,
   "metadata": {},
   "outputs": [],
   "source": [
    "import math\n",
    "import numpy as npy\n",
    "import EMfields as em\n",
    "import RefractiveIndex as ri\n",
    "import matplotlib.pyplot as plt\n",
    "import opticalCrossSection as ocs"
   ]
  },
  {
   "cell_type": "markdown",
   "metadata": {},
   "source": [
    "### Step 1: Parameter setting (manual)"
   ]
  },
  {
   "cell_type": "code",
   "execution_count": 2,
   "metadata": {},
   "outputs": [],
   "source": [
    "# Definição dos parâmetros de análise e importação dos parâmetros materiais\n",
    "\n",
    "## Se a NP for uma nanoesfera, shell_material equivale ao material da esfera\n",
    "shell_material = 'Au'                                    \n",
    "core_material = 'Water'\n",
    "medium_material = 'Water'\n",
    "\n",
    "## Se True, é nanocasca. Se False, é nanoesfera\n",
    "isShell = True\n",
    "\n",
    "## Raio da da nanoesfera ou núcleo (nm)\n",
    "a = 20\n",
    "\n",
    "## Espessura da casca (nm)\n",
    "t = 10\n",
    "\n",
    "## Raio da nanocasca (nm)\n",
    "if isShell:\n",
    "    b = a + t\n",
    "else:\n",
    "    b = a\n",
    "\n",
    "## Início da região de exibição no plot\n",
    "lambda_min = 400                                         \n",
    "\n",
    "## Fim da região de exibição no plot\n",
    "lambda_max = 1100\n",
    "\n",
    "## Incluir correção de drude?\n",
    "drude = False"
   ]
  },
  {
   "cell_type": "markdown",
   "metadata": {},
   "source": [
    "### Step 2: Cross-section calculation (auto)"
   ]
  },
  {
   "cell_type": "code",
   "execution_count": 3,
   "metadata": {},
   "outputs": [],
   "source": [
    "wl, N, N1, N2, mu1, mu2 = ri.setupRI(shell_material,core_material,medium_material,\n",
    "                                     a,b,lambda_min,lambda_max,isShell,drude,0)"
   ]
  },
  {
   "cell_type": "code",
   "execution_count": 4,
   "metadata": {},
   "outputs": [],
   "source": [
    "if isShell:\n",
    "    Csca, Cext, Cabs, Cbck = ocs.shellCS(wl*(1e9),N1,N2,N,mu1,mu2,a,b)\n",
    "else:\n",
    "    Csca, Cext, Cabs, Cbck = ocs.sphereCS(wl*(1e9),N2,N,mu2,a)"
   ]
  },
  {
   "cell_type": "code",
   "execution_count": 5,
   "metadata": {},
   "outputs": [],
   "source": [
    "wl = npy.delete(wl,len(wl)-1)\n",
    "Csca = npy.delete(Csca,len(Csca)-1)\n",
    "Cext = npy.delete(Cext,len(Cext)-1)\n",
    "Cabs = npy.delete(Cabs,len(Cabs)-1)\n",
    "Cbck = npy.delete(Cbck,len(Cbck)-1)"
   ]
  },
  {
   "cell_type": "code",
   "execution_count": 6,
   "metadata": {},
   "outputs": [],
   "source": [
    "#path = \"C:\\\\Users\\\\Ouvidoria\\\\Desktop\\\\Backup para prioritário\\\\Espectros Esferas\\\\\""
   ]
  },
  {
   "cell_type": "code",
   "execution_count": 7,
   "metadata": {},
   "outputs": [
    {
     "data": {
      "image/png": "[encoded data removed]",
      "text/plain": [
       "<Figure size 432x288 with 1 Axes>"
      ]
     },
     "metadata": {
      "needs_background": "light"
     },
     "output_type": "display_data"
    }
   ],
   "source": [
    "fig1 = plt.figure(1)\n",
    "ax1 = plt.gca()\n",
    "#lines1 = plt.plot((1e9)*wl,Csca,'r-',(1e9)*wl,Cext,'y-',(1e9)*wl,Cabs,'b-',(1e9)*wl,Cbck,'olivedrab',markersize=4)\n",
    "#plt.legend(lines1[:4], ['Scattering','Extinction','Absorption','Backscattering']);\n",
    "lines1 = plt.plot((1e9)*wl,Csca,'#0072BD',(1e9)*wl,Cext,'#EDB120',(1e9)*wl,Cabs,'#D95319',markersize=4)\n",
    "plt.legend(lines1[:3], ['Scattering','Extinction','Absorption'], loc=0);\n",
    "plt.ylabel('Optical cross-sectional area (nm$^{2}$)')\n",
    "plt.xlabel('$\\lambda$ (nm)')\n",
    "ax1.set_xlim([400,1100])\n",
    "#ax1.set_xlim([400,800])\n",
    "#plt.savefig(path+str(a)+'.png',dpi=300,format='png')\n",
    "plt.show()"
   ]
  },
  {
   "cell_type": "markdown",
   "metadata": {},
   "source": [
    "### Step 3: Near-field and Heat power density calculation (auto)"
   ]
  },
  {
   "cell_type": "markdown",
   "metadata": {},
   "source": [
    "def contorno(radius,size):\n",
    "    ang = npy.linspace(0,2*math.pi,num=size,endpoint=True)\n",
    "    contourn = npy.ones([size,size])*radius\n",
    "    return ang, contourn"
   ]
  },
  {
   "cell_type": "markdown",
   "metadata": {},
   "source": [
    "wl_anl = 532\n",
    "r = npy.linspace(a/10,2*b,num=50,endpoint=True)\n",
    "theta = npy.linspace(0,2*math.pi,num=76,endpoint=True)"
   ]
  },
  {
   "cell_type": "markdown",
   "metadata": {},
   "source": [
    "E, H, q = em.yzEM(r,theta,shell_material,core_material,medium_material,a,b,wl_anl,isShell,drude)"
   ]
  },
  {
   "cell_type": "markdown",
   "metadata": {},
   "source": [
    "fig2 = plt.figure(2)\n",
    "ax2 = fig2.add_subplot(111,polar=True)\n",
    "ax2.set_yticklabels([])\n",
    "ax2.set_xticklabels([])\n",
    "ax2.grid(False)\n",
    "pc2 = ax2.pcolormesh(theta,r,E,cmap='inferno')\n",
    "ax2.set_title(\"$\\\\left|E/E_{0}\\\\right\\|$\\n$(\\\\lambda = $\"+str(int(wl_anl))+\" nm)\", va='bottom')\n",
    "fig2.colorbar(pc2)\n",
    "ang1, contourn1 = contorno(a,72)\n",
    "ang2, contourn2 = contorno(b,72)\n",
    "ax2.plot(ang1,contourn1,'k-',ang2,contourn2,'k-',linewidth=0.01);"
   ]
  },
  {
   "cell_type": "markdown",
   "metadata": {},
   "source": [
    "fig3 = plt.figure(3)\n",
    "ax3 = fig3.add_subplot(111,polar=True)\n",
    "ax3.set_yticklabels([])\n",
    "ax3.set_xticklabels([])\n",
    "ax3.grid(False)\n",
    "pc3 = ax3.pcolormesh(theta,r,q,cmap='afmhot')\n",
    "ax3.set_title(\"Heat power density $(W/m^{3})$\\n$(\\\\lambda = $\"+str(int(wl_anl))+\" nm)\", va='bottom')\n",
    "fig3.colorbar(pc3)"
   ]
  },
  {
   "cell_type": "markdown",
   "metadata": {},
   "source": [
    "### Step 4: Export data"
   ]
  },
  {
   "cell_type": "markdown",
   "metadata": {},
   "source": []
  },
  {
   "cell_type": "code",
   "execution_count": 8,
   "metadata": {},
   "outputs": [
    {
     "data": {
      "text/plain": [
       "(array([138], dtype=int64),)"
      ]
     },
     "execution_count": 8,
     "metadata": {},
     "output_type": "execute_result"
    }
   ],
   "source": [
    "npy.where(Cext == Cext.max())"
   ]
  },
  {
   "cell_type": "code",
   "execution_count": 9,
   "metadata": {},
   "outputs": [
    {
     "data": {
      "text/plain": [
       "6.288250417362271e-07"
      ]
     },
     "execution_count": 9,
     "metadata": {},
     "output_type": "execute_result"
    }
   ],
   "source": [
    "wl[151]"
   ]
  },
  {
   "cell_type": "code",
   "execution_count": null,
   "metadata": {},
   "outputs": [],
   "source": []
  }
 ],
 "metadata": {
  "interpreter": {
   "hash": "3d23198188b408c498fa0db71ef3972a0c5aa8bbb5e50ea67e6f887c43f43760"
  },
  "kernelspec": {
   "display_name": "Python 3 (ipykernel)",
   "language": "python",
   "name": "python3"
  },
  "language_info": {
   "codemirror_mode": {
    "name": "ipython",
    "version": 3
   },
   "file_extension": ".py",
   "mimetype": "text/x-python",
   "name": "python",
   "nbconvert_exporter": "python",
   "pygments_lexer": "ipython3",
   "version": "3.10.1"
  }
 },
 "nbformat": 4,
 "nbformat_minor": 4
}
