{
 "cells": [
  {
   "cell_type": "code",
   "execution_count": 1,
   "metadata": {},
   "outputs": [],
   "source": [
    "import math\n",
    "import numpy as npy\n",
    "import EMfields as em\n",
    "from math import pi as pi\n",
    "import matplotlib.pyplot as plt\n",
    "from scipy import special as sp"
   ]
  },
  {
   "cell_type": "markdown",
   "metadata": {},
   "source": [
    "def Esqrmod(wl,N2,N,r,theta,phi,a,mu1,isSphere):\n",
    "    if isSphere:\n",
    "        E, H = em.sphereEM(wl,N2,N,r,theta,phi,a,mu1)\n",
    "    else:\n",
    "        E, H = em.shellEM(wl,N2,N,r,theta,phi,a,mu1)\n",
    "    return E*npy.conj(E)"
   ]
  },
  {
   "cell_type": "markdown",
   "metadata": {},
   "source": [
    "def diff_volume(wl,N2,N,r,theta,phi,a,mu1,isSphere):\n",
    "    Esqr = Esqrmod(wl,N2,N,r,theta,phi,a,mu1,isSphere)\n",
    "    return Esqr*(r**2)*npy.sin(theta)"
   ]
  },
  {
   "cell_type": "markdown",
   "metadata": {},
   "source": [
    "def heatpowerDensity(wl,N2,N,r,theta,phi,a,mu1):\n",
    "    wl /= 1e9\n",
    "    eps0 = 8.8541878128e-12\n",
    "    Esqr = Esqrmod(wl,N2,N,r,theta,phi,a,mu1,isSphere)\n",
    "    return omega*eps0*((N2**2).imag)*Esqr"
   ]
  },
  {
   "cell_type": "markdown",
   "metadata": {},
   "source": [
    "def powerDensity(wl,N2,N,r,theta,phi,a,mu1):\n",
    "    wl /= 1e9\n",
    "    eps0 = 8.8541878128e-12\n",
    "    Esqr = Esqrmod(wl,N2,N,r,theta,phi,a,mu1,isSphere)\n",
    "    return omega*eps0*((N2**2).imag)*Esqr"
   ]
  },
  {
   "cell_type": "code",
   "execution_count": 2,
   "metadata": {},
   "outputs": [],
   "source": [
    "D = 10e-9                                   # Diâmetro do nanobastão (m)\n",
    "L = 40e-9                                   # Comprimento do nanobastão (m)\n",
    "cp_Au = 129                                 # Calor específico do ouro (J/kg.K)\n",
    "k_h2o = 0.6                                 # Condutividade térmica da água (W/m.k)\n",
    "rho_Au = 19300                              # Densidade do ouro (kg/m^3)\n",
    "a_eq = (D/2)*((0.5*(3*L/D-1))**(1/3))       # Raio equivalente (m)\n",
    "tau_d = (a_eq**2)*rho_Au*cp_Au/(3*k_h2o)    # Tempo característico de difusão térmica para o meio (s)"
   ]
  },
  {
   "cell_type": "code",
   "execution_count": 3,
   "metadata": {},
   "outputs": [
    {
     "name": "stdout",
     "output_type": "stream",
     "text": [
      "Tempo de difusão térmica típico para AuNR 40x10nm --> ~ 107.7 ps\n"
     ]
    }
   ],
   "source": [
    "print(\"Tempo de difusão térmica típico para AuNR 40x10nm --> ~ {} ps\".format(npy.round(tau_d*(1e12),1)))"
   ]
  },
  {
   "cell_type": "code",
   "execution_count": 4,
   "metadata": {},
   "outputs": [],
   "source": [
    "Vnp = (4*pi*(a_eq**3)/3)    # Volume da NP\n",
    "Cabs_typical = 1e-15        # Seção de absorção típica para AuNPs\n",
    "tau_ep = 1.7e-12            # Tempo típico de termalização eletron-fonon\n",
    "Iavg = 1e8                  # Intensidade média típica do laser\n",
    "f = 80e6                    # Taxa de repetição de pulsos típicas do laser de fs"
   ]
  },
  {
   "cell_type": "code",
   "execution_count": 5,
   "metadata": {},
   "outputs": [],
   "source": [
    "t0 = npy.linspace(0,1e-9, num=10000)\n",
    "T0 = ((Cabs_typical*Iavg)/(rho_Au*Vnp*cp_Au*f*(1-tau_ep/tau_d)))*(npy.exp(-t0/tau_d)-npy.exp(-t0/tau_ep))"
   ]
  },
  {
   "cell_type": "code",
   "execution_count": 6,
   "metadata": {},
   "outputs": [
    {
     "data": {
      "image/png": "[encoded data removed]",
      "text/plain": [
       "<Figure size 432x288 with 1 Axes>"
      ]
     },
     "metadata": {
      "needs_background": "light"
     },
     "output_type": "display_data"
    }
   ],
   "source": [
    "fig1 = plt.figure(1)\n",
    "ax1 = plt.gca()\n",
    "plt.plot(t0/(1e-9), T0, 'tab:red', linewidth=3)\n",
    "plt.xticks(fontsize=12)\n",
    "plt.yticks(fontsize=12)\n",
    "plt.rcParams['figure.figsize'] = (10, 5)\n",
    "plt.ylabel('$\\Delta T$ ($^{o}$C)', fontsize=14)\n",
    "plt.xlabel('Time (ns)', fontsize=14)\n",
    "plt.xlim([-0.01, 1.01])\n",
    "plt.ylim([-5, 170])\n",
    "plt.grid(alpha=0.3)\n",
    "plt.show()"
   ]
  },
  {
   "cell_type": "code",
   "execution_count": 7,
   "metadata": {},
   "outputs": [],
   "source": [
    "# Parâmetros materiais\n",
    "a = 22e-3                           # Altura do líquido na cubeta (m)\n",
    "b = 1e-3                            # Espessura da líquido na cubeta (m)\n",
    "l = 10e-3                           # Comprimento do caminho óptico (largura da cubeta - m)\n",
    "Cabs = 1e-15                        # Seção de absorção típica para nanopartículas de ouro(m ^ 2)\n",
    "rho_h2o = 1000                      # Densidade do meio (kg/m^3)\n",
    "cp_h2o = 4200                       # Calor específico do meio (J/kg.K)\n",
    "Cnp = npy.array([1e14, 1e15, 1e16]) # Concentração da amostra de nanopartículas (m ^ -3)\n",
    "h = 35                              # Coeficiente de transferência de calor convectivo(W/m ^ 2.K)    # Ref.:\n",
    "                                    # https://www.engineersedge.com/heat_transfer/convective_heat_transfer_coefficients__13378.htm\n",
    "\n",
    "# Parâmetros do Laser\n",
    "Pexc=3.5                            # Potência média do Laser (W)\n",
    "f=80e6                              # Taxa de repetição do Laser (Hz)\n",
    "\n",
    "# Parâmetros calculados\n",
    "S = 2*(a*b + a*l + b*l)             # Somatório das áreas em que há perda convectiva(m ^ 2)\n",
    "V = a*b*l                           # Volume do líquido na cubeta (m^3)\n",
    "I = Pexc/(a*b)                      # Intensidade do feixe (W/m^2)\n",
    "E0 = Cabs*I/f                       # Energia absorvida por uma nanopartícula (J)\n",
    "E = Cnp*E0                          # Densidade volumétrica de energia absorvida na amostra(J/m ^ 3)\n",
    "B = h*S/(rho_h2o*cp_h2o*V)          # Fator de perda de calor (1/s)"
   ]
  },
  {
   "cell_type": "code",
   "execution_count": null,
   "metadata": {},
   "outputs": [],
   "source": []
  }
 ],
 "metadata": {
  "kernelspec": {
   "display_name": "Python 3",
   "language": "python",
   "name": "python3"
  },
  "language_info": {
   "codemirror_mode": {
    "name": "ipython",
    "version": 3
   },
   "file_extension": ".py",
   "mimetype": "text/x-python",
   "name": "python",
   "nbconvert_exporter": "python",
   "pygments_lexer": "ipython3",
   "version": "3.10.2"
  }
 },
 "nbformat": 4,
 "nbformat_minor": 2
}
