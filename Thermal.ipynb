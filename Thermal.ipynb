{
 "cells": [
  {
   "cell_type": "code",
   "execution_count": 1,
   "metadata": {},
   "outputs": [],
   "source": [
    "import math\n",
    "import numpy as npy\n",
    "import EMfields as em\n",
    "from scipy import special as sp"
   ]
  },
  {
   "cell_type": "code",
   "execution_count": null,
   "metadata": {},
   "outputs": [],
   "source": [
    "def Esqrmod(wl,N2,N,r,theta,phi,a,mu1,isSphere):\n",
    "    if isSphere:\n",
    "        E, H = em.sphereEM(wl,N2,N,r,theta,phi,a,mu1)\n",
    "    else:\n",
    "        E, H = em.shellEM(wl,N2,N,r,theta,phi,a,mu1)\n",
    "    return E*npy.conj(E)"
   ]
  },
  {
   "cell_type": "code",
   "execution_count": null,
   "metadata": {},
   "outputs": [],
   "source": [
    "def diff_volume(wl,N2,N,r,theta,phi,a,mu1,isSphere):\n",
    "    Esqr = Esqrmod(wl,N2,N,r,theta,phi,a,mu1,isSphere)\n",
    "    return Esqr*(r**2)*npy.sin(theta)"
   ]
  },
  {
   "cell_type": "code",
   "execution_count": null,
   "metadata": {},
   "outputs": [],
   "source": [
    "def heatpowerDensity(wl,N2,N,r,theta,phi,a,mu1):\n",
    "    wl /= 1e9\n",
    "    eps0 = 8.8541878128e-12\n",
    "    Esqr = Esqrmod(wl,N2,N,r,theta,phi,a,mu1,isSphere)\n",
    "    return omega*eps0*((N2**2).imag)*Esqr"
   ]
  },
  {
   "cell_type": "code",
   "execution_count": null,
   "metadata": {},
   "outputs": [],
   "source": [
    "def powerDensity(wl,N2,N,r,theta,phi,a,mu1):\n",
    "    wl /= 1e9\n",
    "    eps0 = 8.8541878128e-12\n",
    "    Esqr = Esqrmod(wl,N2,N,r,theta,phi,a,mu1,isSphere)\n",
    "    return omega*eps0*((N2**2).imag)*Esqr"
   ]
  },
  {
   "cell_type": "code",
   "execution_count": null,
   "metadata": {},
   "outputs": [],
   "source": []
  }
 ],
 "metadata": {
  "kernelspec": {
   "display_name": "Python 3",
   "language": "python",
   "name": "python3"
  },
  "language_info": {
   "codemirror_mode": {
    "name": "ipython",
    "version": 3
   },
   "file_extension": ".py",
   "mimetype": "text/x-python",
   "name": "python",
   "nbconvert_exporter": "python",
   "pygments_lexer": "ipython3",
   "version": "3.7.3"
  }
 },
 "nbformat": 4,
 "nbformat_minor": 2
}
